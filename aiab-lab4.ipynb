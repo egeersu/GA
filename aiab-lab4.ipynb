{
 "cells": [
  {
   "cell_type": "code",
   "execution_count": 128,
   "metadata": {},
   "outputs": [],
   "source": [
    "import random\n",
    "import numpy as np\n",
    "import matplotlib.pyplot as plt\n",
    "import math\n",
    "from copy import deepcopy\n",
    "from GA_functions import *"
   ]
  },
  {
   "cell_type": "markdown",
   "metadata": {},
   "source": [
    "#### Encode the problem\n",
    "* Each item is encoded with its: ( _benefit_, _volume_ )\n",
    "* `CAPACITY` of the knapsack can be adjusted.\n",
    "* `NUM_GENES` is the number of genes each individual has."
   ]
  },
  {
   "cell_type": "code",
   "execution_count": 2,
   "metadata": {},
   "outputs": [],
   "source": [
    "items = np.array([(5,3), (6,2), (1,4), (9,5), (2,8), (8,9), (4,10), (3,1), (7,6), (10,7)])\n",
    "\n",
    "CAPACITY = 20\n",
    "NUM_GENES = len(items)"
   ]
  },
  {
   "cell_type": "markdown",
   "metadata": {},
   "source": [
    "#### Task 1: Implement a steady state GA with tournament selection\n",
    "\n",
    "* You will need a population of N individuals. \n",
    "* This should be encoded as a matrix of N genotypes, wherein each genotype encodes one possible solution to knapsack problem. "
   ]
  },
  {
   "cell_type": "code",
   "execution_count": 32,
   "metadata": {},
   "outputs": [],
   "source": [
    "N = 100\n",
    "population_1 = random_population(population_size = N, length=NUM_GENES, vectorized=True)"
   ]
  },
  {
   "cell_type": "markdown",
   "metadata": {},
   "source": [
    "* A genotype → phenotype mapping."
   ]
  },
  {
   "cell_type": "code",
   "execution_count": 253,
   "metadata": {},
   "outputs": [],
   "source": [
    "def print_population(population):\n",
    "    i = 0\n",
    "    for individual in population:\n",
    "        print(i, \": \", individual, \" score: \", fitness(individual))\n",
    "        i += 1"
   ]
  },
  {
   "cell_type": "markdown",
   "metadata": {},
   "source": [
    "* A fitness function . We need a way to evaluate how good each phenotype is as a potentialsolution to the card-sorting problem. "
   ]
  },
  {
   "cell_type": "code",
   "execution_count": 254,
   "metadata": {},
   "outputs": [
    {
     "name": "stdout",
     "output_type": "stream",
     "text": [
      "Help on function fitness in module GA_functions:\n",
      "\n",
      "fitness(individual)\n",
      "    # #### Fitness\n",
      "    # * Given an individual, evaluate its fitness.\n",
      "\n"
     ]
    },
    {
     "data": {
      "text/plain": [
       "-27"
      ]
     },
     "execution_count": 254,
     "metadata": {},
     "output_type": "execute_result"
    }
   ],
   "source": [
    "help(fitness)\n",
    "fitness(population_1[0])"
   ]
  },
  {
   "cell_type": "markdown",
   "metadata": {},
   "source": [
    "* A mutation operator."
   ]
  },
  {
   "cell_type": "code",
   "execution_count": 255,
   "metadata": {},
   "outputs": [
    {
     "name": "stdout",
     "output_type": "stream",
     "text": [
      "[1 1 1 1 0 0 1 1 1 1]\n",
      "[1 1 1 1 0 0 1 0 1 1]\n"
     ]
    }
   ],
   "source": [
    "individual_1 = population_1[0]\n",
    "individual_1_mutated = mutate(individual_1)\n",
    "\n",
    "print(individual_1)\n",
    "print(individual_1_mutated)"
   ]
  },
  {
   "cell_type": "markdown",
   "metadata": {},
   "source": [
    "* Tournament Selection"
   ]
  },
  {
   "cell_type": "code",
   "execution_count": 256,
   "metadata": {},
   "outputs": [
    {
     "name": "stdout",
     "output_type": "stream",
     "text": [
      "[1 0 1 1 0 1 1 1 0 1]  score:  -36\n",
      "[0 1 0 0 1 1 1 1 0 0]  score:  -17\n",
      "[0 1 0 0 1 1 1 1 0 0]  WINNER SCORE:  -17\n"
     ]
    }
   ],
   "source": [
    "def battle(individual_1, individual_2):\n",
    "    '''\n",
    "    Returns the individual with the higher fitness score.\n",
    "    '''\n",
    "    if fitness(individual_1) > fitness(individual_2):\n",
    "        return individual_1\n",
    "    else:\n",
    "        return individual_2\n",
    "    \n",
    "# Test battle\n",
    "population_1 = random_population(population_size = N, length=NUM_GENES, vectorized=True)\n",
    "individual_1 = population_1[1]\n",
    "individual_2 = population_1[2]\n",
    "print(individual_1, \" score: \", fitness(individual_1))\n",
    "print(individual_2, \" score: \", fitness(individual_2))\n",
    "winner = battle(individual_1, individual_2)\n",
    "print(winner, \" WINNER SCORE: \", fitness(winner))"
   ]
  },
  {
   "cell_type": "code",
   "execution_count": 310,
   "metadata": {},
   "outputs": [
    {
     "name": "stdout",
     "output_type": "stream",
     "text": [
      "0 :  [1 0 1 0 1 1 0 1 1 0]  score:  -18\n",
      "1 :  [1 1 0 0 1 0 0 0 1 0]  score:  19\n",
      "2 :  [0 0 0 0 0 0 0 1 0 0]  score:  -16\n",
      "3 :  [0 0 0 0 1 1 1 0 0 0]  score:  -14\n",
      "4 :  [0 1 0 1 1 1 1 0 0 1]  score:  -45\n",
      "5 :  [1 1 1 0 0 1 0 1 0 0]  score:  22\n",
      "6 :  [1 1 1 0 1 1 1 1 1 0]  score:  -56\n",
      "7 :  [0 1 0 1 0 1 1 0 0 0]  score:  3\n"
     ]
    },
    {
     "data": {
      "text/plain": [
       "array([[1, 1, 0, 0, 1, 0, 0, 0, 1, 0],\n",
       "       [0, 0, 0, 0, 1, 1, 1, 0, 0, 0],\n",
       "       [1, 1, 1, 0, 0, 1, 0, 1, 0, 0],\n",
       "       [0, 1, 0, 1, 0, 1, 1, 0, 0, 0]])"
      ]
     },
     "execution_count": 310,
     "metadata": {},
     "output_type": "execute_result"
    }
   ],
   "source": [
    "def battle(population):\n",
    "    scores = matrix_to_scores(population)\n",
    "    winner_indices = np.ones(int(len(population)/2), dtype=int)\n",
    "    \n",
    "    # use j to iterate over winner_indices\n",
    "    j = 0\n",
    "    \n",
    "    # use i to iterate over tuples of indivuduals.\n",
    "    \n",
    "    # ex:\n",
    "    # when i = 0: the battle is between population[0] and population[1]\n",
    "    # the winner's index is recorded at winner_indices[0]\n",
    "    \n",
    "    # when i = 2 the battle is between population[2] and population[3]\n",
    "    # the winner's index is recored at winner_indices[1]\n",
    "    # ...\n",
    "\n",
    "    for i in range(0, len(population), 2):\n",
    "        if scores[i] > scores[i+1]:\n",
    "            winner_indices[j] = i\n",
    "        else:\n",
    "            winner_indices[j] = i+1\n",
    "            \n",
    "        j += 1\n",
    "        \n",
    "    return population[winner_indices, :]\n",
    "    \n",
    "N = 8\n",
    "population_1 = random_population(population_size = N, length=NUM_GENES, vectorized=True)\n",
    "\n",
    "print_population(population_1)\n",
    "battle(population_1)"
   ]
  },
  {
   "cell_type": "code",
   "execution_count": 318,
   "metadata": {},
   "outputs": [
    {
     "data": {
      "text/plain": [
       "array([1, 1, 1, 1, 0, 0, 0, 0, 0, 1])"
      ]
     },
     "execution_count": 318,
     "metadata": {},
     "output_type": "execute_result"
    }
   ],
   "source": [
    "powers_of_two = [2**i for i in range(1000)]\n",
    "\n",
    "def tournament(population):\n",
    "    if len(population) not in powers_of_two:\n",
    "        return \"Error: In order to have a propert torunament, the size of the population must be a power of two.\"\n",
    "    else:\n",
    "        while len(population) != 1:\n",
    "            #print(\"New Battle!\")\n",
    "            population = battle(population)\n",
    "            #print_population(population)\n",
    "            #print(\"Individuals Remaining: \", len(population))\n",
    "    \n",
    "    # return the champion\n",
    "    return population[0]\n",
    "\n",
    "N = 32\n",
    "population_1 = random_population(population_size = N, length=NUM_GENES, vectorized=True)\n",
    "tournament(population_1)"
   ]
  },
  {
   "cell_type": "code",
   "execution_count": 333,
   "metadata": {},
   "outputs": [
    {
     "name": "stdout",
     "output_type": "stream",
     "text": [
      "[1 0 1 1 0 1 0 1 0 0]  score:  18\n",
      "[1 1 0 1 0 1 0 1 0 0]  score:  31\n",
      "[1 0 0 1 0 0 0 1 1 1]  score:  26\n",
      "[1 1 0 0 0 1 0 1 0 1]  score:  24\n",
      "[1 1 0 1 0 1 0 0 0 0]  score:  27\n",
      "[1 1 0 0 1 0 0 0 1 0]  score:  19\n",
      "[1 1 0 0 0 0 0 1 1 1]  score:  30\n",
      "[1 1 1 1 0 0 0 0 1 0]  score:  28\n",
      "[1 0 1 1 0 1 0 0 0 0]  score:  19\n",
      "[1 0 0 1 0 0 0 0 1 1]  score:  27\n",
      "[0 1 1 0 0 0 0 1 1 1]  score:  27\n",
      "[1 1 0 1 0 0 0 1 0 1]  score:  31\n",
      "[1 1 0 0 0 0 0 1 1 1]  score:  30\n",
      "[0 1 0 1 0 0 0 0 1 1]  score:  32\n",
      "[1 0 1 1 0 0 0 1 0 1]  score:  28\n",
      "[1 1 0 1 0 0 0 0 1 1]  score:  25\n"
     ]
    },
    {
     "ename": "AttributeError",
     "evalue": "'list' object has no attribute 'shape'",
     "output_type": "error",
     "traceback": [
      "\u001b[0;31m---------------------------------------------------------------------------\u001b[0m",
      "\u001b[0;31mAttributeError\u001b[0m                            Traceback (most recent call last)",
      "\u001b[0;32m<ipython-input-333-001e6891825f>\u001b[0m in \u001b[0;36m<module>\u001b[0;34m\u001b[0m\n\u001b[1;32m     12\u001b[0m \u001b[0;34m\u001b[0m\u001b[0m\n\u001b[1;32m     13\u001b[0m \u001b[0;34m\u001b[0m\u001b[0m\n\u001b[0;32m---> 14\u001b[0;31m \u001b[0mtournament\u001b[0m\u001b[0;34m(\u001b[0m\u001b[0mmul_winners\u001b[0m\u001b[0;34m)\u001b[0m\u001b[0;34m\u001b[0m\u001b[0;34m\u001b[0m\u001b[0m\n\u001b[0m",
      "\u001b[0;32m<ipython-input-318-996750fe9438>\u001b[0m in \u001b[0;36mtournament\u001b[0;34m(population)\u001b[0m\n\u001b[1;32m      7\u001b[0m         \u001b[0;32mwhile\u001b[0m \u001b[0mlen\u001b[0m\u001b[0;34m(\u001b[0m\u001b[0mpopulation\u001b[0m\u001b[0;34m)\u001b[0m \u001b[0;34m!=\u001b[0m \u001b[0;36m1\u001b[0m\u001b[0;34m:\u001b[0m\u001b[0;34m\u001b[0m\u001b[0;34m\u001b[0m\u001b[0m\n\u001b[1;32m      8\u001b[0m             \u001b[0;31m#print(\"New Battle!\")\u001b[0m\u001b[0;34m\u001b[0m\u001b[0;34m\u001b[0m\u001b[0;34m\u001b[0m\u001b[0m\n\u001b[0;32m----> 9\u001b[0;31m             \u001b[0mpopulation\u001b[0m \u001b[0;34m=\u001b[0m \u001b[0mbattle\u001b[0m\u001b[0;34m(\u001b[0m\u001b[0mpopulation\u001b[0m\u001b[0;34m)\u001b[0m\u001b[0;34m\u001b[0m\u001b[0;34m\u001b[0m\u001b[0m\n\u001b[0m\u001b[1;32m     10\u001b[0m             \u001b[0;31m#print_population(population)\u001b[0m\u001b[0;34m\u001b[0m\u001b[0;34m\u001b[0m\u001b[0;34m\u001b[0m\u001b[0m\n\u001b[1;32m     11\u001b[0m             \u001b[0;31m#print(\"Individuals Remaining: \", len(population))\u001b[0m\u001b[0;34m\u001b[0m\u001b[0;34m\u001b[0m\u001b[0;34m\u001b[0m\u001b[0m\n",
      "\u001b[0;32m<ipython-input-310-2e5dface9fa6>\u001b[0m in \u001b[0;36mbattle\u001b[0;34m(population)\u001b[0m\n\u001b[1;32m      1\u001b[0m \u001b[0;32mdef\u001b[0m \u001b[0mbattle\u001b[0m\u001b[0;34m(\u001b[0m\u001b[0mpopulation\u001b[0m\u001b[0;34m)\u001b[0m\u001b[0;34m:\u001b[0m\u001b[0;34m\u001b[0m\u001b[0;34m\u001b[0m\u001b[0m\n\u001b[0;32m----> 2\u001b[0;31m     \u001b[0mscores\u001b[0m \u001b[0;34m=\u001b[0m \u001b[0mmatrix_to_scores\u001b[0m\u001b[0;34m(\u001b[0m\u001b[0mpopulation\u001b[0m\u001b[0;34m)\u001b[0m\u001b[0;34m\u001b[0m\u001b[0;34m\u001b[0m\u001b[0m\n\u001b[0m\u001b[1;32m      3\u001b[0m     \u001b[0mwinner_indices\u001b[0m \u001b[0;34m=\u001b[0m \u001b[0mnp\u001b[0m\u001b[0;34m.\u001b[0m\u001b[0mones\u001b[0m\u001b[0;34m(\u001b[0m\u001b[0mint\u001b[0m\u001b[0;34m(\u001b[0m\u001b[0mlen\u001b[0m\u001b[0;34m(\u001b[0m\u001b[0mpopulation\u001b[0m\u001b[0;34m)\u001b[0m\u001b[0;34m/\u001b[0m\u001b[0;36m2\u001b[0m\u001b[0;34m)\u001b[0m\u001b[0;34m,\u001b[0m \u001b[0mdtype\u001b[0m\u001b[0;34m=\u001b[0m\u001b[0mint\u001b[0m\u001b[0;34m)\u001b[0m\u001b[0;34m\u001b[0m\u001b[0;34m\u001b[0m\u001b[0m\n\u001b[1;32m      4\u001b[0m \u001b[0;34m\u001b[0m\u001b[0m\n\u001b[1;32m      5\u001b[0m     \u001b[0;31m# use j to iterate over winner_indices\u001b[0m\u001b[0;34m\u001b[0m\u001b[0;34m\u001b[0m\u001b[0;34m\u001b[0m\u001b[0m\n",
      "\u001b[0;32m~/Desktop/aiab/GA_functions.py\u001b[0m in \u001b[0;36mmatrix_to_scores\u001b[0;34m(matrix)\u001b[0m\n\u001b[1;32m    161\u001b[0m \u001b[0;32mdef\u001b[0m \u001b[0mmatrix_to_scores\u001b[0m\u001b[0;34m(\u001b[0m\u001b[0mmatrix\u001b[0m\u001b[0;34m)\u001b[0m\u001b[0;34m:\u001b[0m\u001b[0;34m\u001b[0m\u001b[0;34m\u001b[0m\u001b[0m\n\u001b[1;32m    162\u001b[0m     \u001b[0mmatrix\u001b[0m \u001b[0;34m=\u001b[0m \u001b[0mdeepcopy\u001b[0m\u001b[0;34m(\u001b[0m\u001b[0mmatrix\u001b[0m\u001b[0;34m)\u001b[0m\u001b[0;34m\u001b[0m\u001b[0;34m\u001b[0m\u001b[0m\n\u001b[0;32m--> 163\u001b[0;31m     \u001b[0mpop_size\u001b[0m \u001b[0;34m=\u001b[0m \u001b[0mmatrix\u001b[0m\u001b[0;34m.\u001b[0m\u001b[0mshape\u001b[0m\u001b[0;34m[\u001b[0m\u001b[0;36m0\u001b[0m\u001b[0;34m]\u001b[0m\u001b[0;34m\u001b[0m\u001b[0;34m\u001b[0m\u001b[0m\n\u001b[0m\u001b[1;32m    164\u001b[0m     \u001b[0mscores\u001b[0m \u001b[0;34m=\u001b[0m \u001b[0mnp\u001b[0m\u001b[0;34m.\u001b[0m\u001b[0mzeros\u001b[0m\u001b[0;34m(\u001b[0m\u001b[0mpop_size\u001b[0m\u001b[0;34m)\u001b[0m\u001b[0;34m\u001b[0m\u001b[0;34m\u001b[0m\u001b[0m\n\u001b[1;32m    165\u001b[0m     \u001b[0;32mfor\u001b[0m \u001b[0mi\u001b[0m \u001b[0;32min\u001b[0m \u001b[0mrange\u001b[0m\u001b[0;34m(\u001b[0m\u001b[0mpop_size\u001b[0m\u001b[0;34m)\u001b[0m\u001b[0;34m:\u001b[0m\u001b[0;34m\u001b[0m\u001b[0;34m\u001b[0m\u001b[0m\n",
      "\u001b[0;31mAttributeError\u001b[0m: 'list' object has no attribute 'shape'"
     ]
    }
   ],
   "source": [
    "def multiple_tournaments(num_tournaments=10):\n",
    "    winners = []\n",
    "    for i in range(num_tournaments):\n",
    "        population_i = random_population(population_size = num_tournaments, length=NUM_GENES, vectorized=True)\n",
    "        winner_i = tournament(population_i)\n",
    "        winners.append([winner_i, fitness(winner_i)])\n",
    "    return winners\n",
    "\n",
    "mul_winners = multiple_tournaments(16)\n",
    "for winner in mul_winners:\n",
    "    print(winner[0], \" score: \", winner[1])\n",
    "    \n",
    "    \n",
    "tournament(mul_winners)"
   ]
  }
 ],
 "metadata": {
  "kernelspec": {
   "display_name": "Python 3",
   "language": "python",
   "name": "python3"
  },
  "language_info": {
   "codemirror_mode": {
    "name": "ipython",
    "version": 3
   },
   "file_extension": ".py",
   "mimetype": "text/x-python",
   "name": "python",
   "nbconvert_exporter": "python",
   "pygments_lexer": "ipython3",
   "version": "3.7.6"
  }
 },
 "nbformat": 4,
 "nbformat_minor": 2
}
