{
 "cells": [
  {
   "cell_type": "markdown",
   "metadata": {},
   "source": [
    "## Lab 3: Hill Climbing"
   ]
  },
  {
   "cell_type": "code",
   "execution_count": 1,
   "metadata": {},
   "outputs": [],
   "source": [
    "import numpy as np\n",
    "import matplotlib.pyplot as plt"
   ]
  },
  {
   "cell_type": "code",
   "execution_count": 2,
   "metadata": {},
   "outputs": [],
   "source": [
    "# This is the Genetic Algoritms module by me\n",
    "import GA"
   ]
  },
  {
   "cell_type": "markdown",
   "metadata": {},
   "source": [
    "#### Encode the problem\n",
    "* Each item is encoded with its: ( _benefit_, _volume_ )\n",
    "* `CAPACITY` of the knapsack can be adjusted.\n",
    "* `NUM_GENES` is the number of genes each individual has."
   ]
  },
  {
   "cell_type": "code",
   "execution_count": 3,
   "metadata": {},
   "outputs": [],
   "source": [
    "items = np.array([(5,3), (6,2), (1,4), (9,5), (2,8), (8,9), (4,10), (3,1), (7,6), (10,7)])\n",
    "CAPACITY = 20\n",
    "NUM_GENES = len(items)"
   ]
  },
  {
   "cell_type": "markdown",
   "metadata": {},
   "source": [
    "#### Random Individual\n",
    "* Generates a random individual with `length=10` number of genes."
   ]
  },
  {
   "cell_type": "code",
   "execution_count": 4,
   "metadata": {},
   "outputs": [
    {
     "data": {
      "text/plain": [
       "array([0, 1, 1, 0, 0, 1, 0, 1, 1, 1])"
      ]
     },
     "execution_count": 4,
     "metadata": {},
     "output_type": "execute_result"
    }
   ],
   "source": [
    "GA.random_individual(10)"
   ]
  },
  {
   "cell_type": "markdown",
   "metadata": {},
   "source": [
    "#### Random Population\n",
    "* Generates a population with `population_size` number of individuals.\n",
    "* Each individual will have `length` number of genes."
   ]
  },
  {
   "cell_type": "code",
   "execution_count": 5,
   "metadata": {},
   "outputs": [
    {
     "data": {
      "text/plain": [
       "[array([1, 1, 0, 0, 0, 1, 1, 0, 1, 0]),\n",
       " array([0, 0, 1, 0, 1, 1, 1, 0, 1, 0]),\n",
       " array([1, 1, 0, 1, 1, 0, 0, 0, 0, 1]),\n",
       " array([0, 0, 0, 1, 0, 0, 1, 0, 0, 1]),\n",
       " array([0, 0, 0, 0, 1, 0, 1, 1, 0, 1]),\n",
       " array([0, 1, 0, 0, 1, 0, 0, 0, 0, 0]),\n",
       " array([1, 1, 1, 0, 0, 0, 1, 0, 1, 1]),\n",
       " array([0, 0, 1, 0, 1, 0, 0, 1, 0, 0])]"
      ]
     },
     "execution_count": 5,
     "metadata": {},
     "output_type": "execute_result"
    }
   ],
   "source": [
    "POPULATION_SIZE = 8\n",
    "GA.random_population(POPULATION_SIZE, NUM_GENES)"
   ]
  },
  {
   "cell_type": "markdown",
   "metadata": {},
   "source": [
    "#### Evaluate Individual\n",
    "* Given an individual, returns the total benefit and total volume as a tuple."
   ]
  },
  {
   "cell_type": "code",
   "execution_count": 6,
   "metadata": {},
   "outputs": [
    {
     "data": {
      "text/plain": [
       "(31, 21)"
      ]
     },
     "execution_count": 6,
     "metadata": {},
     "output_type": "execute_result"
    }
   ],
   "source": [
    "individual_1 = GA.random_individual(10)\n",
    "GA.evaluate_individual(individual_1)"
   ]
  },
  {
   "cell_type": "markdown",
   "metadata": {},
   "source": [
    "#### Mutate\n",
    "* Given an individual, flip a random gene."
   ]
  },
  {
   "cell_type": "code",
   "execution_count": 7,
   "metadata": {},
   "outputs": [
    {
     "name": "stdout",
     "output_type": "stream",
     "text": [
      "[1 0 0 1 0 0 0 0 1 1]\n",
      "[1 0 0 1 0 0 0 0 1 1]\n",
      "[1 0 0 1 0 0 0 1 1 1]\n"
     ]
    }
   ],
   "source": [
    "print(individual_1)\n",
    "individual_2 = GA.mutate(individual_1)\n",
    "print(individual_1)\n",
    "print(individual_2)"
   ]
  },
  {
   "cell_type": "markdown",
   "metadata": {},
   "source": [
    "#### Mutate Population\n",
    "* Given a population, returns a new population where each gene is mutated. \n",
    "* Does not modify the original population."
   ]
  },
  {
   "cell_type": "code",
   "execution_count": 8,
   "metadata": {},
   "outputs": [
    {
     "name": "stdout",
     "output_type": "stream",
     "text": [
      "Population[0] (before mutation):  [0 1 1 1 1 1 0 0 0 1]\n",
      "Population[0] (after mutation):   [0 1 1 1 1 1 0 0 0 1]\n",
      "New Population[0] : [0 1 1 1 1 0 0 0 0 1]\n"
     ]
    }
   ],
   "source": [
    "population1 = GA.random_population(POPULATION_SIZE, NUM_GENES);\n",
    "print(\"Population[0] (before mutation): \", population1[0])\n",
    "\n",
    "population2 = GA.mutate_population(population1)\n",
    "print(\"Population[0] (after mutation):  \", population1[0])\n",
    "print(\"New Population[0] :\", population2[0])"
   ]
  },
  {
   "cell_type": "markdown",
   "metadata": {},
   "source": [
    "#### Fitness\n",
    "* Given an individual, evaluate its fitness."
   ]
  },
  {
   "cell_type": "code",
   "execution_count": 9,
   "metadata": {
    "scrolled": true
   },
   "outputs": [
    {
     "data": {
      "text/plain": [
       "13"
      ]
     },
     "execution_count": 9,
     "metadata": {},
     "output_type": "execute_result"
    }
   ],
   "source": [
    "individual_1 = GA.random_individual(NUM_GENES)\n",
    "GA.evaluate_individual(individual_1)\n",
    "GA.fitness(individual_1)"
   ]
  },
  {
   "cell_type": "markdown",
   "metadata": {},
   "source": [
    "### Random Search\n",
    "* Generate individuals randomly, return the one with the highest fitness.\n",
    "* Just a Baseline model"
   ]
  },
  {
   "cell_type": "code",
   "execution_count": 77,
   "metadata": {},
   "outputs": [
    {
     "name": "stdout",
     "output_type": "stream",
     "text": [
      "Best individual:  [1 1 0 1 0 0 0 1 0 1]\n",
      "Benefit:  33\n",
      "Volume:  18\n",
      "Random search took 0.2037 seconds to run\n"
     ]
    }
   ],
   "source": [
    "GA.random_search(10000)"
   ]
  },
  {
   "cell_type": "markdown",
   "metadata": {},
   "source": [
    "### Brute Force\n",
    "\n",
    "Calculates the best solution to the problem by trying every possible combination."
   ]
  },
  {
   "cell_type": "code",
   "execution_count": 78,
   "metadata": {},
   "outputs": [
    {
     "name": "stdout",
     "output_type": "stream",
     "text": [
      "Best individual:  (1, 1, 0, 1, 0, 0, 0, 1, 0, 1)\n",
      "Benefit:  33\n",
      "Volume:  18\n",
      "Brute force took 0.0163 seconds to run\n"
     ]
    }
   ],
   "source": [
    "GA.brute_force()"
   ]
  },
  {
   "cell_type": "markdown",
   "metadata": {},
   "source": [
    "### Single Hill Climber"
   ]
  },
  {
   "cell_type": "code",
   "execution_count": 94,
   "metadata": {},
   "outputs": [
    {
     "name": "stdout",
     "output_type": "stream",
     "text": [
      "Best gene:  [1 1 1 0 0 0 1 1 0 0]\n",
      "Benefit:  19\n",
      "Capactiy:  20\n",
      "Hill climber took 0.0354 seconds to run\n"
     ]
    },
    {
     "data": {
      "image/png": "[encoded data removed]",
      "text/plain": [
       "<Figure size 432x288 with 1 Axes>"
      ]
     },
     "metadata": {
      "needs_background": "light"
     },
     "output_type": "display_data"
    }
   ],
   "source": [
    "scores = GA.hill_climber(1000)\n",
    "plt.xlabel(\"Generation\")\n",
    "plt.ylabel(\"Fitness\")\n",
    "plt.title(\"Single Hill Climber\")\n",
    "plt.plot(scores);"
   ]
  },
  {
   "cell_type": "markdown",
   "metadata": {},
   "source": [
    "### Population of Hill Climbers"
   ]
  },
  {
   "cell_type": "code",
   "execution_count": 101,
   "metadata": {},
   "outputs": [
    {
     "data": {
      "text/plain": [
       "[('benefit:', 19.0, ' volume:', 20.0, 'score:', 19.0),\n",
       " ('benefit:', 24.0, ' volume:', 20.0, 'score:', 24.0),\n",
       " ('benefit:', 25.0, ' volume:', 19.0, 'score:', 24.0),\n",
       " ('benefit:', 28.0, ' volume:', 20.0, 'score:', 28.0),\n",
       " ('benefit:', 22.0, ' volume:', 21.0, 'score:', 18.0),\n",
       " ('benefit:', 11.0, ' volume:', 21.0, 'score:', 7.0),\n",
       " ('benefit:', 23.0, ' volume:', 20.0, 'score:', 23.0),\n",
       " ('benefit:', 16.0, ' volume:', 20.0, 'score:', 16.0),\n",
       " ('benefit:', 31.0, ' volume:', 20.0, 'score:', 31.0),\n",
       " ('benefit:', 26.0, ' volume:', 20.0, 'score:', 26.0),\n",
       " ('benefit:', 19.0, ' volume:', 20.0, 'score:', 19.0),\n",
       " ('benefit:', 19.0, ' volume:', 20.0, 'score:', 19.0),\n",
       " ('benefit:', 31.0, ' volume:', 20.0, 'score:', 31.0),\n",
       " ('benefit:', 25.0, ' volume:', 19.0, 'score:', 24.0),\n",
       " ('benefit:', 23.0, ' volume:', 20.0, 'score:', 23.0),\n",
       " ('benefit:', 24.0, ' volume:', 20.0, 'score:', 24.0),\n",
       " ('benefit:', 23.0, ' volume:', 22.0, 'score:', 15.0),\n",
       " ('benefit:', 21.0, ' volume:', 20.0, 'score:', 21.0),\n",
       " ('benefit:', 26.0, ' volume:', 20.0, 'score:', 26.0),\n",
       " ('benefit:', 21.0, ' volume:', 20.0, 'score:', 21.0)]"
      ]
     },
     "execution_count": 101,
     "metadata": {},
     "output_type": "execute_result"
    },
    {
     "data": {
      "image/png": "[encoded data removed]",
      "text/plain": [
       "<Figure size 432x288 with 1 Axes>"
      ]
     },
     "metadata": {
      "needs_background": "light"
     },
     "output_type": "display_data"
    }
   ],
   "source": [
    "GA.hill_climbers(20, 5000)"
   ]
  },
  {
   "cell_type": "code",
   "execution_count": null,
   "metadata": {},
   "outputs": [],
   "source": []
  }
 ],
 "metadata": {
  "kernelspec": {
   "display_name": "Python 3",
   "language": "python",
   "name": "python3"
  },
  "language_info": {
   "codemirror_mode": {
    "name": "ipython",
    "version": 3
   },
   "file_extension": ".py",
   "mimetype": "text/x-python",
   "name": "python",
   "nbconvert_exporter": "python",
   "pygments_lexer": "ipython3",
   "version": "3.7.6"
  }
 },
 "nbformat": 4,
 "nbformat_minor": 2
}
