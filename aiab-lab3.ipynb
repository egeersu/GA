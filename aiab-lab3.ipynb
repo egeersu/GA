{
 "cells": [
  {
   "cell_type": "markdown",
   "metadata": {},
   "source": [
    "## Lab 3: Hill Climbing"
   ]
  },
  {
   "cell_type": "code",
   "execution_count": 4,
   "metadata": {},
   "outputs": [],
   "source": [
    "import random\n",
    "import numpy as np\n",
    "import matplotlib.pyplot as plt\n",
    "from copy import deepcopy"
   ]
  },
  {
   "cell_type": "markdown",
   "metadata": {},
   "source": [
    "#### Encode the problem\n",
    "* Each item is encoded with its: ( _benefit_, _volume_ )\n",
    "* `CAPACITY` of the knapsack can be adjusted.\n",
    "* `NUM_GENES` is the number of genes each individual has."
   ]
  },
  {
   "cell_type": "code",
   "execution_count": 5,
   "metadata": {},
   "outputs": [],
   "source": [
    "items = np.array([(5,3), (6,2), (1,4), (9,5), (2,8), (8,9), (4,10), (3,1), (7,6), (10,7)])\n",
    "CAPACITY = 20\n",
    "NUM_GENES = len(items)"
   ]
  },
  {
   "cell_type": "markdown",
   "metadata": {},
   "source": [
    "#### Random Individual\n",
    "* Generates a random individual with `length=10` number of genes."
   ]
  },
  {
   "cell_type": "code",
   "execution_count": 6,
   "metadata": {},
   "outputs": [],
   "source": [
    "def random_individual(length=NUM_GENES):\n",
    "    return np.random.randint(low = 0, high = 2, size = length)\n",
    "    \n",
    "indiv1 = random_individual()"
   ]
  },
  {
   "cell_type": "markdown",
   "metadata": {},
   "source": [
    "#### Random Population\n",
    "* Generates a population with `population_size` number of individuals.\n",
    "* Each individual will have `length` number of genes."
   ]
  },
  {
   "cell_type": "code",
   "execution_count": 7,
   "metadata": {},
   "outputs": [],
   "source": [
    "def random_population(population_size=100, length=10):\n",
    "    return [random_individual(length) for i in range(population_size)]\n",
    "\n",
    "POPULATION_SIZE = 8\n",
    "random_population(POPULATION_SIZE, NUM_GENES);"
   ]
  },
  {
   "cell_type": "markdown",
   "metadata": {},
   "source": [
    "#### Evaluate Individual\n",
    "* Given an individual, returns the total benefit and total volume."
   ]
  },
  {
   "cell_type": "code",
   "execution_count": 8,
   "metadata": {},
   "outputs": [
    {
     "data": {
      "text/plain": [
       "(23, 35)"
      ]
     },
     "execution_count": 8,
     "metadata": {},
     "output_type": "execute_result"
    }
   ],
   "source": [
    "def evaluate_individual(individual):\n",
    "    total_benefit = sum(individual * items[:, 0])\n",
    "    total_volume = sum(individual * items[:, 1])\n",
    "    return total_benefit, total_volume\n",
    "\n",
    "evaluate_individual(indiv1)"
   ]
  },
  {
   "cell_type": "markdown",
   "metadata": {},
   "source": [
    "#### Mutate\n",
    "* Given an individual, flip a random gene."
   ]
  },
  {
   "cell_type": "code",
   "execution_count": 9,
   "metadata": {},
   "outputs": [
    {
     "name": "stdout",
     "output_type": "stream",
     "text": [
      "[1 0 1 0 1 1 1 1 0 0]\n",
      "[1 0 1 0 1 1 1 1 0 0]\n",
      "[1 0 0 0 1 1 1 1 0 0]\n"
     ]
    }
   ],
   "source": [
    "def mutate(individual):\n",
    "    individual = deepcopy(individual)\n",
    "    index = random.randint(0,len(individual)-1)\n",
    "    if individual[index] == 0:\n",
    "        individual[index] = 1\n",
    "    else:\n",
    "        individual[index] = 0\n",
    "    return individual\n",
    "        \n",
    "print(indiv1)\n",
    "indiv2 = mutate(indiv1)\n",
    "print(indiv1)\n",
    "print(indiv2)"
   ]
  },
  {
   "cell_type": "markdown",
   "metadata": {},
   "source": [
    "#### Mutate Population\n",
    "* Given a population, mutate all individuals. Return a new population.\n",
    "* Don't modify the original population."
   ]
  },
  {
   "cell_type": "code",
   "execution_count": 10,
   "metadata": {},
   "outputs": [
    {
     "name": "stdout",
     "output_type": "stream",
     "text": [
      "Population 1 (before mutation):  [1 1 0 0 0 1 1 1 0 0]\n",
      "Population 1 (after mutation):   [1 1 0 0 0 1 1 1 0 0]\n",
      "Population 2 : [1 1 1 0 0 1 1 1 0 0]\n"
     ]
    }
   ],
   "source": [
    "def mutate_population(population):\n",
    "    new_population = []\n",
    "    for individual in population:\n",
    "        new_population.append(mutate(individual))\n",
    "    return new_population\n",
    "\n",
    "population1 = random_population(POPULATION_SIZE, NUM_GENES);\n",
    "print(\"Population 1 (before mutation): \", population1[0])\n",
    "\n",
    "population2 = mutate_population(population1)\n",
    "print(\"Population 1 (after mutation):  \", population1[0])\n",
    "print(\"Population 2 :\", population2[0])"
   ]
  },
  {
   "cell_type": "markdown",
   "metadata": {},
   "source": [
    "#### Fitness\n",
    "* Given an individual, evaluate its fitness."
   ]
  },
  {
   "cell_type": "code",
   "execution_count": 11,
   "metadata": {
    "scrolled": true
   },
   "outputs": [
    {
     "data": {
      "text/plain": [
       "-14"
      ]
     },
     "execution_count": 11,
     "metadata": {},
     "output_type": "execute_result"
    }
   ],
   "source": [
    "def fitness(individual):\n",
    "    benefit, volume = evaluate_individual(individual)\n",
    "    if volume > 20:\n",
    "        fitness = benefit - (4)*abs(volume - CAPACITY)\n",
    "    else:    \n",
    "        fitness =  benefit - abs(volume - CAPACITY)\n",
    "    return fitness\n",
    "\n",
    "indiv1 = random_individual(NUM_GENES)\n",
    "fitness(indiv1)"
   ]
  },
  {
   "cell_type": "markdown",
   "metadata": {},
   "source": [
    "### Random Search\n",
    "* Generate individuals randomly, return the one with the highest fitness.\n",
    "* Just a Baseline model"
   ]
  },
  {
   "cell_type": "code",
   "execution_count": 12,
   "metadata": {},
   "outputs": [
    {
     "name": "stdout",
     "output_type": "stream",
     "text": [
      "Best individual:  [0 1 0 1 0 0 0 0 1 1]\n",
      "Benefit:  32\n",
      "Volume:  20\n"
     ]
    }
   ],
   "source": [
    "def random_search(epochs = 1000):\n",
    "    best_solution = None\n",
    "    best_fitness = 0\n",
    "    for i in range(epochs):\n",
    "        indiv_i = random_individual()\n",
    "        fitness_i = fitness(indiv_i)\n",
    "        if fitness_i > best_fitness:\n",
    "            best_fitness, best_solution = fitness_i, indiv_i\n",
    "    \n",
    "    print(\"Best individual: \", best_solution)\n",
    "    best_benefit, best_volume = evaluate_individual(best_solution)\n",
    "    print(\"Benefit: \", best_benefit)\n",
    "    print(\"Volume: \", best_volume)\n",
    "\n",
    "random_search(10000)"
   ]
  },
  {
   "cell_type": "markdown",
   "metadata": {},
   "source": [
    "### Brute Force\n",
    "\n",
    "The best solution turns out to have:\n",
    "* **Benefit**: 33\n",
    "* **Volume**: 18"
   ]
  },
  {
   "cell_type": "code",
   "execution_count": 13,
   "metadata": {},
   "outputs": [],
   "source": [
    "def brute_force():\n",
    "    # enumerate all possible solutions\n",
    "    all_solutions = list(product([0, 1], repeat=10))        \n",
    "\n",
    "    best_solution = None\n",
    "    best_benefit = 0\n",
    "    for solution in all_solutions:\n",
    "        benefit_i, volume_i = evaluate_individual(solution)\n",
    "        if volume_i <= CAPACITY:\n",
    "            if benefit_i > best_benefit:\n",
    "                best_benefit, best_solution = benefit_i, solution\n",
    "    \n",
    "    print(\"Best individual: \", best_solution)\n",
    "    best_benefit, best_volume = evaluate_individual(best_solution)\n",
    "    print(\"Benefit: \", best_benefit)\n",
    "    print(\"Volume: \", best_volume)"
   ]
  },
  {
   "cell_type": "code",
   "execution_count": 14,
   "metadata": {},
   "outputs": [
    {
     "ename": "NameError",
     "evalue": "name 'product' is not defined",
     "output_type": "error",
     "traceback": [
      "\u001b[0;31m---------------------------------------------------------------------------\u001b[0m",
      "\u001b[0;31mNameError\u001b[0m                                 Traceback (most recent call last)",
      "\u001b[0;32m<ipython-input-14-2523dbd1b209>\u001b[0m in \u001b[0;36m<module>\u001b[0;34m\u001b[0m\n\u001b[0;32m----> 1\u001b[0;31m \u001b[0mbrute_force\u001b[0m\u001b[0;34m(\u001b[0m\u001b[0;34m)\u001b[0m\u001b[0;34m\u001b[0m\u001b[0;34m\u001b[0m\u001b[0m\n\u001b[0m",
      "\u001b[0;32m<ipython-input-13-1067e41f271d>\u001b[0m in \u001b[0;36mbrute_force\u001b[0;34m()\u001b[0m\n\u001b[1;32m      1\u001b[0m \u001b[0;32mdef\u001b[0m \u001b[0mbrute_force\u001b[0m\u001b[0;34m(\u001b[0m\u001b[0;34m)\u001b[0m\u001b[0;34m:\u001b[0m\u001b[0;34m\u001b[0m\u001b[0;34m\u001b[0m\u001b[0m\n\u001b[1;32m      2\u001b[0m     \u001b[0;31m# enumerate all possible solutions\u001b[0m\u001b[0;34m\u001b[0m\u001b[0;34m\u001b[0m\u001b[0;34m\u001b[0m\u001b[0m\n\u001b[0;32m----> 3\u001b[0;31m     \u001b[0mall_solutions\u001b[0m \u001b[0;34m=\u001b[0m \u001b[0mlist\u001b[0m\u001b[0;34m(\u001b[0m\u001b[0mproduct\u001b[0m\u001b[0;34m(\u001b[0m\u001b[0;34m[\u001b[0m\u001b[0;36m0\u001b[0m\u001b[0;34m,\u001b[0m \u001b[0;36m1\u001b[0m\u001b[0;34m]\u001b[0m\u001b[0;34m,\u001b[0m \u001b[0mrepeat\u001b[0m\u001b[0;34m=\u001b[0m\u001b[0;36m10\u001b[0m\u001b[0;34m)\u001b[0m\u001b[0;34m)\u001b[0m\u001b[0;34m\u001b[0m\u001b[0;34m\u001b[0m\u001b[0m\n\u001b[0m\u001b[1;32m      4\u001b[0m \u001b[0;34m\u001b[0m\u001b[0m\n\u001b[1;32m      5\u001b[0m     \u001b[0mbest_solution\u001b[0m \u001b[0;34m=\u001b[0m \u001b[0;32mNone\u001b[0m\u001b[0;34m\u001b[0m\u001b[0;34m\u001b[0m\u001b[0m\n",
      "\u001b[0;31mNameError\u001b[0m: name 'product' is not defined"
     ]
    }
   ],
   "source": [
    "brute_force()"
   ]
  },
  {
   "cell_type": "markdown",
   "metadata": {},
   "source": [
    "### Single Hill Climber"
   ]
  },
  {
   "cell_type": "code",
   "execution_count": 15,
   "metadata": {},
   "outputs": [
    {
     "name": "stdout",
     "output_type": "stream",
     "text": [
      "Best gene:  [0 0 1 0 0 0 1 0 1 0]\n",
      "Benefit:  12\n",
      "Capactiy:  20\n"
     ]
    },
    {
     "data": {
      "image/png": "[encoded data removed]",
      "text/plain": [
       "<Figure size 432x288 with 1 Axes>"
      ]
     },
     "metadata": {
      "needs_background": "light"
     },
     "output_type": "display_data"
    }
   ],
   "source": [
    "def hill_climber(EPOCH=30):\n",
    "    individual = random_individual()\n",
    "    scores = []\n",
    "    for generation in range(EPOCH):\n",
    "        \n",
    "        old_fitness = fitness(individual)\n",
    "        new_individual = mutate(individual)\n",
    "        new_fitness = fitness(new_individual)\n",
    "        \n",
    "        if new_fitness > old_fitness:\n",
    "            individual = new_individual\n",
    "            scores.append(new_fitness)\n",
    "        else:\n",
    "            scores.append(old_fitness)\n",
    "    \n",
    "    print(\"Best gene: \", individual)\n",
    "    benefit, volume = evaluate_individual(individual)\n",
    "    print(\"Benefit: \", benefit)\n",
    "    print(\"Capactiy: \", volume)\n",
    "    return scores\n",
    "        \n",
    "        \n",
    "scores = hill_climber()\n",
    "plt.xlabel(\"Generation\")\n",
    "plt.ylabel(\"Fitness\")\n",
    "plt.title(\"Single Hill Climber\")\n",
    "plt.plot(scores);"
   ]
  },
  {
   "cell_type": "markdown",
   "metadata": {},
   "source": [
    "### Population of Hill Climbers"
   ]
  },
  {
   "cell_type": "code",
   "execution_count": 16,
   "metadata": {},
   "outputs": [],
   "source": [
    "def flip(individual, index):\n",
    "    individual = deepcopy(individual)\n",
    "    if individual[index] == 0:\n",
    "        individual[index] = 1\n",
    "    else:\n",
    "        individual[index] = 0\n",
    "    return individual"
   ]
  },
  {
   "cell_type": "code",
   "execution_count": 17,
   "metadata": {},
   "outputs": [],
   "source": [
    "def mutate_matrix(matrix):\n",
    "    matrix = deepcopy(matrix)\n",
    "    pop_size = matrix.shape[0]\n",
    "    \n",
    "    random_indices = np.random.randint(low = 0, high = NUM_GENES, size = pop_size)    \n",
    "    mutated_matrix = np.zeros(matrix.shape)\n",
    "    \n",
    "    for i in range(len(matrix)):\n",
    "        old_individual = matrix[i,:]\n",
    "        new_individual = flip(old_individual, random_indices[i])\n",
    "        old_score = fitness(old_individual)\n",
    "        new_score = fitness(new_individual)\n",
    "        \n",
    "        if old_score > new_score:\n",
    "            mutated_matrix[i,:] = old_individual\n",
    "        else:\n",
    "            mutated_matrix[i,:] = new_individual\n",
    "        \n",
    "    return mutated_matrix"
   ]
  },
  {
   "cell_type": "code",
   "execution_count": 18,
   "metadata": {},
   "outputs": [],
   "source": [
    "def matrix_to_scores(matrix):\n",
    "    matrix = deepcopy(matrix)\n",
    "    pop_size = matrix.shape[0]\n",
    "    scores = np.zeros(pop_size)\n",
    "    for i in range(pop_size):\n",
    "        scores[i] = fitness(matrix[i,:])\n",
    "    return scores"
   ]
  },
  {
   "cell_type": "code",
   "execution_count": 29,
   "metadata": {},
   "outputs": [
    {
     "data": {
      "text/plain": [
       "[('benefit:', 33.0, ' volume:', 18.0, 'score:', 31.0),\n",
       " ('benefit:', 23.0, ' volume:', 22.0, 'score:', 15.0),\n",
       " ('benefit:', 33.0, ' volume:', 18.0, 'score:', 31.0),\n",
       " ('benefit:', 30.0, ' volume:', 17.0, 'score:', 27.0),\n",
       " ('benefit:', 31.0, ' volume:', 21.0, 'score:', 27.0),\n",
       " ('benefit:', 27.0, ' volume:', 21.0, 'score:', 23.0),\n",
       " ('benefit:', 23.0, ' volume:', 20.0, 'score:', 23.0),\n",
       " ('benefit:', 28.0, ' volume:', 20.0, 'score:', 28.0),\n",
       " ('benefit:', 31.0, ' volume:', 20.0, 'score:', 31.0),\n",
       " ('benefit:', 26.0, ' volume:', 18.0, 'score:', 24.0),\n",
       " ('benefit:', 27.0, ' volume:', 21.0, 'score:', 23.0),\n",
       " ('benefit:', 19.0, ' volume:', 20.0, 'score:', 19.0),\n",
       " ('benefit:', 23.0, ' volume:', 21.0, 'score:', 19.0),\n",
       " ('benefit:', 28.0, ' volume:', 20.0, 'score:', 28.0),\n",
       " ('benefit:', 23.0, ' volume:', 20.0, 'score:', 23.0),\n",
       " ('benefit:', 27.0, ' volume:', 20.0, 'score:', 27.0),\n",
       " ('benefit:', 15.0, ' volume:', 20.0, 'score:', 15.0),\n",
       " ('benefit:', 18.0, ' volume:', 21.0, 'score:', 14.0),\n",
       " ('benefit:', 12.0, ' volume:', 20.0, 'score:', 12.0),\n",
       " ('benefit:', 12.0, ' volume:', 20.0, 'score:', 12.0)]"
      ]
     },
     "execution_count": 29,
     "metadata": {},
     "output_type": "execute_result"
    },
    {
     "data": {
      "image/png": "[encoded data removed]",
      "text/plain": [
       "<Figure size 432x288 with 1 Axes>"
      ]
     },
     "metadata": {
      "needs_background": "light"
     },
     "output_type": "display_data"
    }
   ],
   "source": [
    "def hill_climbers(population_size=200, EPOCH=50000):\n",
    "    \n",
    "    scores = np.zeros((population_size, EPOCH))\n",
    "    population = np.array(random_population(population_size))\n",
    "                          \n",
    "    for epoch in range(EPOCH):\n",
    "        population = mutate_matrix(population)\n",
    "        scores_epoch = matrix_to_scores(population)\n",
    "        scores[:, epoch] = scores_epoch\n",
    "    \n",
    "    benefits = []\n",
    "    for individual in range(population_size):\n",
    "        benefit, volume = evaluate_individual(population[individual,:])\n",
    "        benefits.append((\"benefit:\", benefit, \" volume:\", volume, \"score:\", scores[individual, EPOCH-1]))\n",
    "    \n",
    "    plt.xlabel(\"Generation\")\n",
    "    plt.ylabel(\"Fitness\")\n",
    "    plt.title(\"Hill Climbers\")\n",
    "    plt.plot(np.transpose(scores));\n",
    "    \n",
    "    return benefits\n",
    "\n",
    "hill_climbers(20, 30)"
   ]
  }
 ],
 "metadata": {
  "kernelspec": {
   "display_name": "Python 3",
   "language": "python",
   "name": "python3"
  },
  "language_info": {
   "codemirror_mode": {
    "name": "ipython",
    "version": 3
   },
   "file_extension": ".py",
   "mimetype": "text/x-python",
   "name": "python",
   "nbconvert_exporter": "python",
   "pygments_lexer": "ipython3",
   "version": "3.7.6"
  }
 },
 "nbformat": 4,
 "nbformat_minor": 2
}
